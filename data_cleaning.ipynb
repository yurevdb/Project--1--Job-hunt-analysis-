{
 "cells": [
  {
   "cell_type": "code",
   "execution_count": 1,
   "metadata": {},
   "outputs": [
    {
     "name": "stdout",
     "output_type": "stream",
     "text": [
      "title                               location\n",
      "Data Scientist                      Leuven      369\n",
      "                                    Ghent       310\n",
      "Data Engineer                       Geel        186\n",
      "Data Scientist                      Zaventem    183\n",
      "                                    Hasselt     182\n",
      "                                               ... \n",
      "Data Entry Officer                  Zaventem      1\n",
      "Data Officer                        Tongeren      1\n",
      "Data Project Lead (+3y experience)  Aalst         1\n",
      "Data Science Engineer               Halle         1\n",
      "Analytics Consultant                Zaventem      1\n",
      "Length: 91, dtype: int64\n"
     ]
    }
   ],
   "source": [
    "import pandas as pd\n",
    "\n",
    "# Load up the data\n",
    "df = pd.read_json('jobs.json')\n",
    "\n",
    "# Basic data manipulations => making it look nicer and more useable\n",
    "def CleanUpLocation(location: str):\n",
    "    loc = location.split(',')[0]\n",
    "    if loc == 'Flemish Region':\n",
    "        loc = ''\n",
    "    return loc\n",
    "\n",
    "df['location'] = df['location'].apply(lambda loc: CleanUpLocation(loc))\n",
    "\n",
    "# showing the data\n",
    "print(df.value_counts())"
   ]
  }
 ],
 "metadata": {
  "interpreter": {
   "hash": "3fcf86edbfe462dc10f85e9f1bbb82980da7fd7dab3c7d685c68abb6a36c2c40"
  },
  "kernelspec": {
   "display_name": "Python 3.9.12 32-bit (system)",
   "language": "python",
   "name": "python3"
  },
  "language_info": {
   "codemirror_mode": {
    "name": "ipython",
    "version": 3
   },
   "file_extension": ".py",
   "mimetype": "text/x-python",
   "name": "python",
   "nbconvert_exporter": "python",
   "pygments_lexer": "ipython3",
   "version": "3.9.12"
  },
  "orig_nbformat": 4
 },
 "nbformat": 4,
 "nbformat_minor": 2
}
