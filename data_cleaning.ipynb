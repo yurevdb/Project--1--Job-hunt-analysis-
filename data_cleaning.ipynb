{
 "cells": [
  {
   "cell_type": "code",
   "execution_count": 3,
   "metadata": {},
   "outputs": [
    {
     "name": "stdout",
     "output_type": "stream",
     "text": [
      "                               title                   location\n",
      "0                     Data Scientist                    Hasselt\n",
      "1                     Data Scientist                    Antwerp\n",
      "2              Junior Data Scientist                      Ghent\n",
      "3     Data Scientist - Research Team                    Antwerp\n",
      "4                    Data Consultant    Ghent Metropolitan Area\n",
      "...                              ...                        ...\n",
      "6495                  Data Scientist                      Ghent\n",
      "6496                   Data Engineer                       Geel\n",
      "6497                  Data Scientist                   Mechelen\n",
      "6498     Internship in Data Analysis                   Mechelen\n",
      "6499      Freelance Database Analist  Antwerp Metropolitan Area\n",
      "\n",
      "[6500 rows x 2 columns]\n"
     ]
    }
   ],
   "source": [
    "import pandas as pd\n",
    "\n",
    "# Load up the data\n",
    "df = pd.read_json('jobs.json')\n",
    "\n",
    "# Basic data manipulations => making it look nicer and more useable\n",
    "def CleanUpLocation(location: str):\n",
    "    loc = location.split(',')[0]\n",
    "    if loc == 'Flemish Region':\n",
    "        loc = ''\n",
    "    return loc\n",
    "\n",
    "# Clean up the location\n",
    "df['location'] = df['location'].apply(lambda loc: CleanUpLocation(loc))\n",
    "\n",
    "# showing the data\n",
    "print(df)"
   ]
  }
 ],
 "metadata": {
  "interpreter": {
   "hash": "3fcf86edbfe462dc10f85e9f1bbb82980da7fd7dab3c7d685c68abb6a36c2c40"
  },
  "kernelspec": {
   "display_name": "Python 3.9.12 32-bit (system)",
   "language": "python",
   "name": "python3"
  },
  "language_info": {
   "codemirror_mode": {
    "name": "ipython",
    "version": 3
   },
   "file_extension": ".py",
   "mimetype": "text/x-python",
   "name": "python",
   "nbconvert_exporter": "python",
   "pygments_lexer": "ipython3",
   "version": "3.9.12"
  },
  "orig_nbformat": 4
 },
 "nbformat": 4,
 "nbformat_minor": 2
}
