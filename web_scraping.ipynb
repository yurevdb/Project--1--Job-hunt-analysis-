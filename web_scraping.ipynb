{
 "cells": [
  {
   "cell_type": "code",
   "execution_count": 22,
   "metadata": {},
   "outputs": [
    {
     "name": "stderr",
     "output_type": "stream",
     "text": [
      "C:\\Users\\Yuré\\AppData\\Local\\Temp\\ipykernel_21860\\1339802221.py:26: DeprecationWarning: use options instead of chrome_options\n",
      "  driver = webdriver.Chrome(service=service, chrome_options=chrome_options)\n"
     ]
    }
   ],
   "source": [
    "from bs4 import BeautifulSoup\n",
    "from selenium import webdriver\n",
    "from selenium.webdriver.chrome.options import Options\n",
    "from selenium.webdriver.chrome.service import Service\n",
    "import json\n",
    "import os\n",
    "\n",
    "# Job object for ease of use\n",
    "class Job():\n",
    "    def __init__(self, title, location):\n",
    "        self.title = title\n",
    "        self.location = location\n",
    "\n",
    "def GetJobData(start: int):\n",
    "    # The linkedin URL that we want to search through\n",
    "    url = f\"https://www.linkedin.com/jobs/search/?geoId=100902529&keywords=data&location=Flemish%20Region%2C%20Belgium&start={start}\"\n",
    "\n",
    "    # Options\n",
    "    chrome_options = Options()\n",
    "    chrome_options.add_argument(\"--headless\") # So the window doesn't pop up\n",
    "\n",
    "    # Service\n",
    "    service = Service('./chromedriver')\n",
    "\n",
    "    # using chrome cause it's popular\n",
    "    driver = webdriver.Chrome(service=service, options=chrome_options)\n",
    "    driver.get(url)\n",
    "    html = driver.page_source\n",
    "\n",
    "    # Beautiful soup, such beauty\n",
    "    soup = BeautifulSoup(html, \"html.parser\")\n",
    "    # Look the HTML up on the Chrome browser since it's completely different in Opera\n",
    "    jobs = soup.find_all('div', {'class', 'base-search-card__info'})\n",
    "    # location class: job-card-container__metadata-item\n",
    "\n",
    "    retval = []\n",
    "    # Get the text we want and write it to a file\n",
    "    for job in jobs:\n",
    "        title = job.find('h3', {'class', 'base-search-card__title'}).text.strip()\n",
    "        metadata = job.find('div', {'class', 'base-search-card__metadata'})\n",
    "        location = metadata.find('span', {'class', 'job-search-card__location'}).text.strip()\n",
    "        retval.append(Job(title, location))\n",
    "\n",
    "    # need to close the driver\n",
    "    driver.close()\n",
    "\n",
    "    # return list\n",
    "    return retval\n",
    "\n",
    "# Remove file if it already exists\n",
    "if os.path.exists('jobs.json'):\n",
    "    os.remove('jobs.json')\n",
    "\n",
    "# Main thing to do\n",
    "jobs = []\n",
    "for start in range(0, 1000, 25):\n",
    "    list_of_jobs = GetJobData(start)\n",
    "    jobs += list_of_jobs\n",
    "\n",
    "txt_json = json.dumps([ob.__dict__ for ob in jobs])\n",
    "with open('jobs.json', 'a') as f:\n",
    "    f.write(txt_json)"
   ]
  },
  {
   "cell_type": "code",
   "execution_count": null,
   "metadata": {},
   "outputs": [],
   "source": [
    "from selenium.webdriver.chrome.options import Options\n",
    "from selenium.webdriver.chrome.service import Service\n",
    "\n",
    "url = \"https://www.linkedin.com/jobs/search/?distance=25.0&geoId=100902529&keywords=data\"\n",
    "\n",
    "options = Options()\n",
    "options.add_argument(\"--headless\")\n",
    "\n",
    "service = Service('./chromedriver')\n",
    "\n",
    "driver = webdriver.Chrome(service=service, options=options)\n",
    "driver.get(url)\n",
    "html = driver.page_source\n",
    "\n",
    "soup = BeautifulSoup(html, 'html.parser')\n",
    "jobs = soup.find_all('div', {'class', 'base-search-card__info'})\n",
    "\n",
    "for job in jobs:\n",
    "    title = job.find('h3', {'class', 'base-search-card__title'}).text.strip()\n",
    "    metadata = job.find('div', {'class', 'base-search-card__metadata'})\n",
    "    location = metadata.find('span', {'class', 'job-search-card__location'}).text.strip()\n",
    "    print(title, location)\n",
    "\n",
    "driver.close()\n"
   ]
  }
 ],
 "metadata": {
  "interpreter": {
   "hash": "3fcf86edbfe462dc10f85e9f1bbb82980da7fd7dab3c7d685c68abb6a36c2c40"
  },
  "kernelspec": {
   "display_name": "Python 3.9.12 32-bit (system)",
   "language": "python",
   "name": "python3"
  },
  "language_info": {
   "codemirror_mode": {
    "name": "ipython",
    "version": 3
   },
   "file_extension": ".py",
   "mimetype": "text/x-python",
   "name": "python",
   "nbconvert_exporter": "python",
   "pygments_lexer": "ipython3",
   "version": "3.9.12"
  },
  "orig_nbformat": 4
 },
 "nbformat": 4,
 "nbformat_minor": 2
}
